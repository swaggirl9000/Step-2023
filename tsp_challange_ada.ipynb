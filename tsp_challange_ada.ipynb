{
 "cells": [
  {
   "cell_type": "code",
   "execution_count": 2,
   "metadata": {},
   "outputs": [],
   "source": [
    "import math\n",
    "import numpy as np\n",
    "import itertools"
   ]
  },
  {
   "attachments": {},
   "cell_type": "markdown",
   "metadata": {},
   "source": [
    "common.py\n",
    "read_input function"
   ]
  },
  {
   "cell_type": "code",
   "execution_count": 4,
   "metadata": {},
   "outputs": [],
   "source": [
    "def read_input(filename):\n",
    "    with open(filename) as f:\n",
    "        cities = []\n",
    "        for line in f.readlines()[1:]:  # Ignore the first line.\n",
    "            xy = line.split(',')\n",
    "            cities.append((float(xy[0]), float(xy[1])))\n",
    "        return cities\n",
    "\n",
    "\n",
    "def format_tour(tour):\n",
    "    return 'index\\n' + '\\n'.join(map(str, tour))\n",
    "\n",
    "\n",
    "def print_tour(tour):\n",
    "    print(format_tour(tour))"
   ]
  },
  {
   "cell_type": "code",
   "execution_count": 7,
   "metadata": {},
   "outputs": [
    {
     "data": {
      "text/plain": [
       "[(214.98279057984195, 762.6903632435094),\n",
       " (1222.0393903625825, 229.56212316547953),\n",
       " (792.6961393471055, 404.5419583098643),\n",
       " (1042.5487563564207, 709.8510160219619),\n",
       " (150.17533883877582, 25.512728869805677)]"
      ]
     },
     "execution_count": 7,
     "metadata": {},
     "output_type": "execute_result"
    }
   ],
   "source": [
    "input0 = read_input(\"/Users/ada/Desktop/google-step-tsp-main/input_0.csv\")\n",
    "input0"
   ]
  },
  {
   "cell_type": "code",
   "execution_count": 8,
   "metadata": {},
   "outputs": [],
   "source": [
    "input1 = read_input(\"/Users/ada/Desktop/google-step-tsp-main/input_1.csv\")\n",
    "input2 = read_input(\"/Users/ada/Desktop/google-step-tsp-main/input_2.csv\")\n",
    "input3 = read_input(\"/Users/ada/Desktop/google-step-tsp-main/input_3.csv\")\n",
    "input4 = read_input(\"/Users/ada/Desktop/google-step-tsp-main/input_4.csv\")\n",
    "input5 = read_input(\"/Users/ada/Desktop/google-step-tsp-main/input_5.csv\")\n",
    "input6 = read_input(\"/Users/ada/Desktop/google-step-tsp-main/input_6.csv\")\n",
    "\n",
    "input_list = [input0, input1, input2, input3, input4, input5, input6]"
   ]
  },
  {
   "attachments": {},
   "cell_type": "markdown",
   "metadata": {},
   "source": [
    "Calculte the distance!"
   ]
  },
  {
   "cell_type": "code",
   "execution_count": 9,
   "metadata": {},
   "outputs": [],
   "source": [
    "def distance(city1, city2):\n",
    "    return math.sqrt((city1[0] - city2[0]) ** 2 + (city1[1] - city2[1]) ** 2)"
   ]
  },
  {
   "attachments": {},
   "cell_type": "markdown",
   "metadata": {},
   "source": [
    "BRUTE FORCE APPROACH: just go through all possibly combinations"
   ]
  },
  {
   "cell_type": "code",
   "execution_count": 7,
   "metadata": {},
   "outputs": [],
   "source": [
    "def tsp_brute(cities):\n",
    "    num_cities = len(cities)\n",
    "    best_distance = float(\"inf\")\n",
    "    best_solution = None\n",
    "    \n",
    "    #generate list of possible routes to visit\n",
    "    possible_routes = list(itertools.permutations(range(1, num_cities)))\n",
    "    for route in possible_routes:\n",
    "        route = [0] + list(route)\n",
    "        current_distance = 0\n",
    "        cur_stop = route[0]\n",
    "\n",
    "        for next_stop in route:\n",
    "            current_distance += distance(cities[cur_stop], cities[next_stop])\n",
    "            cur_stop = next_stop\n",
    "        current_distance += distance(cities[0], cities[cur_stop])\n",
    "        if  best_distance > current_distance:\n",
    "            best_distance = current_distance\n",
    "            best_solution = route\n",
    "            \n",
    "        # print(best_solution, best_distance)\n",
    "    return best_solution, best_distance\n"
   ]
  },
  {
   "cell_type": "code",
   "execution_count": 8,
   "metadata": {},
   "outputs": [
    {
     "data": {
      "text/plain": [
       "([0, 3, 1, 2, 4], 3291.6217214092458)"
      ]
     },
     "execution_count": 8,
     "metadata": {},
     "output_type": "execute_result"
    }
   ],
   "source": [
    "tsp_brute(input0)"
   ]
  },
  {
   "cell_type": "code",
   "execution_count": 9,
   "metadata": {},
   "outputs": [
    {
     "data": {
      "text/plain": [
       "([0, 4, 2, 6, 1, 5, 3, 7], 3778.715416492538)"
      ]
     },
     "execution_count": 9,
     "metadata": {},
     "output_type": "execute_result"
    }
   ],
   "source": [
    "tsp_brute(input1)"
   ]
  },
  {
   "attachments": {},
   "cell_type": "markdown",
   "metadata": {},
   "source": [
    "TSP with Simulated Annealing:\n",
    "\n",
    "SOURCE: https://medium.com/@francis.allanah/travelling-salesman-problem-using-simulated-annealing-f547a71ab3c6 \n",
    "\n",
    "The SA algorithm simulates the physical process of solid annealing. In this process, a material such as metal or glass is raised to a high temperature and then left to cool, allowing the local regions of order to grow outward. It is a metaheuristic algorithm. \n",
    "\n",
    "Input: \n",
    "- points: a list containing coordinates of the cities\n",
    "- temperature: the initial tempurature for the simulated annlealing\n",
    "- cooling rate: the rate at which the tempuratre drops\n",
    "- iterations: the number of iterations to occur\n",
    "\n",
    "Here, we take a the solution from the greedy algothrm as the current solution and calculate the distance. We start the annealing process for the number of iterations. In each iteration, we create a new solution by randomly swapping two cites and then calculating their distance. If this has a smaller distance, it is a better solution. If it is worse, there is a chance it might be accepted depending on its previous acceptance rate and what the current temperature is. \n",
    "\n",
    "The acceptance probabilty is the exponential function of the ratio of the difference between the two solutions and the current temperature.\n",
    "\n",
    "Ada's Opinion: This algorithm depends on many random factors so it might not be good for a small number of interations and would instead work well with a number of trails. It might not be the best for large data sets then. "
   ]
  },
  {
   "attachments": {},
   "cell_type": "markdown",
   "metadata": {},
   "source": [
    "GREEDY SOLUTION"
   ]
  },
  {
   "cell_type": "code",
   "execution_count": 70,
   "metadata": {},
   "outputs": [
    {
     "data": {
      "text/plain": [
       "[0, 3, 1, 2, 4]"
      ]
     },
     "execution_count": 70,
     "metadata": {},
     "output_type": "execute_result"
    }
   ],
   "source": [
    "def solve_greedy(cities):\n",
    "    N = len(cities)\n",
    "\n",
    "    dist = [[0] * N for i in range(N)]\n",
    "    for i in range(N):\n",
    "        for j in range(i, N):\n",
    "            dist[i][j] = dist[j][i] = distance(cities[i], cities[j])\n",
    "\n",
    "    current_city = 0\n",
    "    unvisited_cities = set(range(1, N))\n",
    "    tour = [current_city]\n",
    "\n",
    "    while unvisited_cities:\n",
    "        next_city = min(unvisited_cities,\n",
    "                        key=lambda city: dist[current_city][city])\n",
    "        unvisited_cities.remove(next_city)\n",
    "        tour.append(next_city)\n",
    "        current_city = next_city\n",
    "    return tour\n",
    "\n",
    "solve_greedy(input0)"
   ]
  },
  {
   "cell_type": "code",
   "execution_count": 50,
   "metadata": {},
   "outputs": [
    {
     "data": {
      "text/plain": [
       "(3418.101599132713, [0, 2, 3, 1, 4])"
      ]
     },
     "execution_count": 50,
     "metadata": {},
     "output_type": "execute_result"
    }
   ],
   "source": [
    "def tsp_simulated_annealing(input_points, temp, cool_rate, iterations):\n",
    "    num_points = len(input_points)\n",
    "    cur_solution = solve_greedy(input_points)   #the current solution can be taken from the greedy solution\n",
    "    best_solution = cur_solution    #set this to be the best solution as of yet\n",
    "\n",
    "    current_distance = 0\n",
    "    best_distance = float(\"inf\")\n",
    "\n",
    "    for i in range(1, num_points):\n",
    "        #goes through the current path and its distances from the current solution \n",
    "        current_distance += distance(input_points[cur_solution[i-1]], input_points[cur_solution[i]])\n",
    "    #go full circle start to end\n",
    "    current_distance += distance(input_points[cur_solution[-1]], input_points[cur_solution[0]])\n",
    "\n",
    "    for _ in range(iterations):\n",
    "        temp *= cool_rate       #decrease the temperature \n",
    "        better_solution = cur_solution[:]\n",
    "\n",
    "        #generate random indexes to swap\n",
    "        index1 = np.random.randint(num_points)\n",
    "        index2 = np.random.randint(num_points)\n",
    "\n",
    "        #swap the cities to see if a new tour is better with this set up\n",
    "        better_solution[index1], better_solution[index2] = better_solution[index2], better_solution[index1]\n",
    "        # print(cur_solution, better_solution)\n",
    "        better_distance = 0\n",
    "        for i in range(1, num_points):\n",
    "        #goes through the current path and its distances from the current solution \n",
    "            better_distance += distance(input_points[cur_solution[i-1]], input_points[cur_solution[i]])\n",
    "    #go full circle start to end\n",
    "        better_distance += distance(input_points[cur_solution[-1]], input_points[cur_solution[0]])\n",
    "        #see if the solution improved\n",
    "        if better_distance <= current_distance:\n",
    "            cur_solution = better_solution\n",
    "            current_distance = better_distance\n",
    "            if better_distance < best_distance:\n",
    "                best_distance = better_distance\n",
    "                better_solution = best_solution\n",
    "        else: #see if you can use this solution in other iterations even if it sucks now\n",
    "            prob = np.exp((current_distance-better_distance)/temp)\n",
    "            if np.random.rand() < prob:\n",
    "                cur_solution = better_solution\n",
    "                current_distance = better_distance\n",
    "\n",
    "    return best_distance, best_solution\n",
    "\n",
    "tsp_simulated_annealing(input0, 100, 0.99, 100)"
   ]
  },
  {
   "cell_type": "code",
   "execution_count": 51,
   "metadata": {},
   "outputs": [
    {
     "name": "stdout",
     "output_type": "stream",
     "text": [
      "The Input for 0 is: 3291.6217214092458 [0, 2, 3, 1, 4]\n",
      "The Input for 1 is: 3832.2900939051997 [0, 7, 2, 3, 5, 1, 6, 4]\n",
      "The Input for 2 is: 5449.435265220031 [0, 8, 7, 14, 2, 3, 5, 11, 1, 6, 9, 15, 12, 10, 13, 4]\n",
      "The Input for 3 is: 10519.161145182472 [0, 50, 36, 10, 30, 57, 16, 12, 44, 25, 32, 53, 38, 35, 51, 19, 61, 6, 63, 1, 29, 5, 48, 18, 24, 47, 58, 26, 59, 46, 22, 31, 3, 33, 7, 27, 54, 52, 2, 34, 49, 43, 55, 40, 23, 11, 41, 9, 45, 37, 20, 42, 39, 60, 8, 14, 15, 21, 28, 56, 13, 62, 4, 17]\n",
      "The Input for 4 is: 12684.059709833355 [0, 72, 119, 50, 36, 98, 64, 117, 66, 30, 57, 96, 81, 109, 127, 60, 86, 100, 87, 8, 79, 76, 77, 44, 99, 69, 32, 95, 53, 114, 104, 38, 71, 97, 73, 51, 123, 92, 19, 61, 6, 90, 9, 101, 45, 111, 41, 113, 5, 29, 122, 88, 68, 94, 78, 31, 22, 112, 40, 80, 48, 18, 115, 125, 126, 23, 11, 106, 37, 103, 20, 85, 116, 26, 58, 47, 107, 24, 59, 120, 46, 91, 93, 105, 3, 74, 33, 7, 27, 54, 52, 2, 34, 49, 43, 55, 14, 82, 121, 83, 25, 16, 12, 102, 67, 21, 124, 84, 28, 56, 13, 110, 118, 4, 75, 62, 70, 10, 15, 89, 17, 65, 35, 63, 1, 42, 39, 108]\n",
      "The Input for 5 is: 25331.843307461648 [0, 130, 72, 135, 227, 393, 360, 509, 417, 355, 8, 299, 79, 359, 219, 420, 86, 156, 100, 175, 87, 474, 364, 136, 448, 486, 334, 267, 488, 223, 396, 490, 165, 241, 203, 383, 42, 285, 39, 108, 469, 246, 444, 401, 502, 472, 348, 329, 317, 258, 421, 74, 3, 345, 222, 214, 196, 357, 358, 22, 180, 31, 148, 287, 408, 78, 423, 510, 94, 464, 68, 462, 286, 347, 187, 195, 380, 272, 229, 142, 55, 43, 49, 476, 447, 351, 249, 459, 308, 302, 389, 349, 19, 305, 327, 123, 51, 92, 279, 309, 386, 369, 353, 162, 188, 431, 379, 491, 412, 73, 198, 97, 71, 179, 366, 455, 315, 35, 493, 281, 233, 500, 38, 256, 104, 277, 114, 394, 377, 155, 442, 390, 253, 375, 332, 354, 456, 32, 266, 405, 507, 215, 158, 387, 508, 121, 83, 25, 237, 295, 201, 505, 499, 238, 312, 109, 134, 231, 127, 164, 391, 311, 453, 207, 367, 470, 410, 303, 497, 7, 356, 441, 192, 82, 199, 14, 252, 429, 324, 250, 291, 34, 2, 52, 392, 439, 194, 473, 183, 438, 159, 352, 264, 414, 234, 273, 271, 153, 268, 461, 292, 282, 270, 33, 479, 452, 255, 27, 443, 503, 54, 482, 321, 458, 60, 427, 297, 204, 216, 77, 76, 310, 322, 98, 139, 64, 163, 36, 388, 290, 119, 50, 301, 350, 395, 217, 244, 373, 245, 337, 445, 293, 96, 81, 146, 212, 296, 376, 149, 496, 44, 236, 483, 99, 69, 138, 197, 16, 12, 102, 433, 67, 211, 325, 288, 15, 506, 478, 150, 263, 343, 181, 161, 160, 89, 186, 193, 318, 316, 407, 133, 110, 466, 415, 362, 411, 202, 341, 75, 62, 140, 344, 4, 118, 457, 232, 13, 56, 28, 131, 468, 257, 418, 70, 371, 338, 511, 84, 151, 124, 413, 190, 230, 435, 21, 314, 323, 339, 248, 400, 117, 66, 166, 30, 57, 501, 487, 504, 385, 226, 171, 365, 10, 53, 95, 185, 283, 243, 189, 65, 143, 17, 265, 251, 284, 434, 61, 481, 129, 477, 178, 335, 304, 1, 63, 372, 313, 328, 403, 492, 122, 29, 225, 363, 326, 280, 259, 48, 80, 463, 428, 40, 242, 112, 208, 254, 402, 218, 276, 18, 115, 416, 24, 382, 419, 177, 275, 480, 58, 430, 26, 361, 209, 340, 398, 176, 331, 374, 59, 239, 46, 120, 221, 425, 294, 319, 300, 206, 346, 105, 278, 262, 247, 169, 378, 440, 91, 93, 450, 200, 144, 495, 397, 116, 85, 20, 182, 424, 274, 399, 269, 436, 47, 307, 449, 107, 404, 320, 37, 210, 437, 240, 147, 406, 260, 152, 306, 132, 224, 154, 11, 106, 172, 137, 157, 205, 298, 113, 451, 261, 191, 5, 184, 432, 422, 126, 23, 141, 489, 460, 426, 467, 168, 220, 228, 145, 475, 330, 45, 336, 174, 9, 101, 368, 90, 342, 128, 471, 485, 173, 484, 409, 111, 289, 41, 498, 235, 384, 170, 88, 125, 494, 381, 446, 465, 103, 333, 454, 213, 6, 167, 370]\n",
      "The Input for 6 is: 49892.04939109294 [0, 1994, 1762, 859, 563, 891, 417, 509, 1548, 1400, 1921, 360, 393, 1940, 1984, 227, 680, 72, 1119, 135, 1988, 1453, 1833, 903, 1476, 1148, 1014, 615, 1973, 1978, 823, 1722, 1758, 130, 677, 693, 669, 771, 1381, 1355, 290, 1520, 878, 1588, 1497, 1891, 1208, 244, 373, 1715, 245, 1853, 1650, 683, 310, 1865, 2006, 1756, 810, 322, 1154, 1184, 1311, 98, 139, 1120, 632, 64, 565, 725, 694, 117, 1720, 662, 400, 248, 166, 66, 1054, 30, 885, 1435, 1801, 1861, 965, 1883, 985, 445, 596, 293, 1322, 1587, 77, 1879, 1209, 76, 1390, 1887, 1970, 1496, 204, 1525, 216, 601, 1289, 96, 81, 1477, 1247, 146, 1679, 1885, 1913, 212, 296, 584, 376, 769, 1275, 149, 496, 44, 551, 236, 1491, 483, 99, 826, 914, 736, 514, 931, 69, 1304, 871, 1670, 32, 1566, 564, 874, 266, 1596, 1446, 643, 1287, 908, 1966, 283, 1766, 754, 1932, 1382, 1896, 882, 1676, 1522, 454, 597, 1954, 250, 579, 919, 1305, 291, 34, 1343, 1941, 1744, 324, 774, 1324, 1033, 429, 552, 1022, 1026, 2, 788, 52, 1692, 1358, 392, 1130, 1840, 984, 1598, 1027, 1057, 1200, 1420, 1401, 1157, 801, 1489, 1593, 574, 1826, 638, 718, 199, 82, 633, 570, 828, 1088, 933, 1364, 668, 215, 1640, 158, 640, 1337, 1227, 1535, 25, 795, 1123, 523, 1204, 946, 201, 688, 1981, 1103, 1917, 1231, 1803, 1206, 237, 295, 566, 1888, 505, 499, 746, 1182, 238, 1637, 667, 109, 1414, 957, 312, 134, 958, 231, 529, 631, 583, 875, 60, 458, 1168, 1207, 1680, 1618, 721, 1743, 420, 219, 1510, 1169, 1152, 741, 580, 1128, 359, 1340, 812, 1573, 1179, 8, 299, 79, 2022, 1709, 1392, 819, 1484, 734, 355, 1264, 981, 744, 1606, 1776, 696, 644, 653, 1782, 1245, 921, 427, 1653, 1173, 297, 1559, 337, 1488, 1222, 1511, 1972, 1790, 940, 1802, 1575, 163, 1327, 1404, 889, 517, 1070, 1121, 834, 1294, 1261, 1763, 1074, 1008, 575, 1376, 796, 947, 590, 1458, 1881, 1558, 1916, 1236, 1346, 845, 963, 1470, 1291, 10, 772, 365, 1161, 1549, 1298, 1170, 1174, 1457, 576, 36, 994, 966, 843, 531, 1416, 825, 1969, 803, 1687, 770, 1259, 388, 1424, 1093, 674, 1295, 50, 1920, 706, 1794, 119, 1825, 2039, 395, 1962, 764, 1386, 909, 350, 1595, 1673, 1432, 301, 599, 726, 1339, 1508, 636, 568, 1843, 217, 1144, 1830, 87, 752, 1541, 1243, 175, 587, 1927, 100, 562, 1494, 704, 1180, 912, 1785, 1177, 1354, 2043, 474, 1752, 765, 1734, 1129, 364, 136, 1564, 1439, 535, 448, 1707, 1856, 573, 1695, 223, 1870, 1017, 997, 2033, 707, 2012, 992, 1172, 1052, 627, 1095, 303, 497, 2011, 1556, 1383, 1963, 1866, 356, 1136, 1044, 367, 470, 410, 1201, 1532, 1907, 1967, 1357, 993, 1402, 655, 917, 1096, 1616, 267, 334, 1279, 1046, 486, 1000, 682, 1642, 712, 723, 1768, 108, 39, 1820, 42, 285, 1983, 1069, 396, 490, 835, 690, 165, 241, 1219, 791, 452, 1454, 479, 270, 1115, 1146, 7, 798, 1425, 1100, 1675, 255, 1444, 1134, 1084, 1817, 1943, 1374, 728, 1030, 54, 503, 1158, 1101, 1793, 443, 27, 544, 439, 608, 742, 1666, 1805, 1334, 787, 438, 1124, 656, 950, 159, 672, 820, 1155, 2014, 273, 271, 153, 1610, 234, 1906, 1092, 352, 264, 414, 630, 554, 977, 634, 380, 195, 1426, 187, 714, 1612, 1604, 800, 272, 1127, 55, 142, 1987, 1032, 1137, 729, 918, 938, 1542, 962, 1406, 852, 983, 476, 1693, 1011, 1719, 1113, 545, 1671, 447, 815, 351, 1224, 1050, 229, 862, 1867, 1665, 49, 43, 626, 473, 183, 194, 817, 605, 641, 731, 14, 1195, 1109, 252, 700, 405, 883, 1397, 1912, 953, 955, 507, 456, 354, 1431, 853, 332, 253, 1745, 375, 892, 816, 2001, 1106, 1171, 748, 1851, 138, 1806, 1939, 1268, 16, 670, 549, 12, 1591, 1282, 1989, 898, 102, 848, 1845, 773, 867, 906, 288, 1492, 776, 1240, 1060, 1608, 856, 850, 1819, 15, 1255, 1035, 2036, 870, 747, 506, 1498, 1043, 1686, 1262, 150, 1602, 1450, 478, 1886, 1543, 944, 1257, 1519, 1361, 861, 390, 155, 442, 637, 1540, 1235, 394, 377, 1515, 53, 1086, 95, 1020, 1792, 591, 664, 243, 1832, 1611, 838, 1868, 2002, 2015, 256, 657, 822, 1345, 38, 1440, 500, 1552, 1082, 1910, 1586, 1118, 1663, 1706, 1190, 1125, 1584, 620, 265, 1624, 846, 65, 1928, 143, 1581, 1258, 1326, 17, 1523, 1021, 1761, 186, 1370, 89, 684, 160, 1090, 1220, 1366, 193, 869, 181, 161, 1578, 745, 533, 1288, 969, 1996, 1765, 1066, 719, 1609, 528, 515, 1780, 1796, 189, 1072, 645, 585, 1067, 1859, 642, 71, 1835, 1682, 97, 996, 179, 1104, 1499, 366, 455, 1842, 1249, 1116, 920, 1812, 939, 233, 1977, 695, 281, 779, 1151, 493, 35, 2008, 1704, 1570, 386, 369, 353, 594, 1557, 527, 1696, 251, 1607, 1252, 1911, 431, 1099, 1314, 1930, 188, 162, 547, 1668, 1810, 1071, 1818, 1643, 92, 1197, 1133, 1002, 1971, 1654, 1015, 1486, 1561, 1777, 1347, 305, 888, 1729, 1717, 658, 1528, 1150, 743, 1110, 877, 1636, 1378, 762, 1063, 1217, 1620, 379, 2035, 1507, 1979, 284, 1266, 827, 1828, 699, 530, 1078, 1398, 1342, 910, 434, 895, 481, 61, 129, 1958, 477, 1854, 1085, 1937, 19, 927, 1205, 1698, 1534, 1328, 1576, 519, 1658, 537, 1319, 1482, 1367, 349, 536, 678, 1836, 821, 1985, 1990, 1449, 1417, 1138, 1829, 1894, 1538, 389, 1467, 902, 1964, 2025, 1946, 347, 1041, 1944, 462, 1784, 1132, 68, 1384, 88, 1087, 660, 881, 970, 492, 1038, 1421, 1395, 1577, 987, 1562, 614, 1537, 1773, 1713, 1016, 1513, 1079, 1462, 1701, 1229, 1464, 1368, 1759, 1192, 753, 1938, 1396, 1700, 1321, 1391, 485, 1164, 926, 818, 1873, 1303, 976, 1285, 1635, 1472, 1623, 941, 90, 757, 1901, 9, 1211, 101, 1296, 2044, 368, 1077, 1741, 336, 1850, 1691, 767, 1335, 174, 1272, 698, 857, 1223, 1631, 1007, 484, 559, 1750, 409, 1714, 111, 1122, 1878, 2016, 709, 137, 172, 1864, 106, 1852, 1308, 1039, 539, 1723, 11, 1380, 154, 23, 778, 1874, 1317, 1253, 782, 1350, 306, 999, 152, 260, 1574, 1811, 1183, 406, 147, 2003, 240, 437, 1646, 1660, 210, 986, 701, 1047, 811, 320, 1461, 37, 1309, 1232, 809, 494, 603, 1302, 676, 1112, 404, 1349, 2031, 1804, 628, 799, 1394, 307, 269, 436, 1012, 47, 1669, 1283, 886, 1365, 1194, 107, 449, 1443, 622, 581, 569, 1788, 1694, 1982, 716, 2004, 1531, 1009, 126, 717, 715, 1863, 571, 521, 422, 1627, 759, 542, 2045, 451, 113, 1487, 1176, 907, 1503, 170, 384, 1141, 1601, 1493, 498, 1521, 1348, 235, 41, 807, 1926, 1263, 560, 851, 797, 289, 157, 205, 298, 1831, 2030, 1073, 1779, 1947, 1898, 1325, 467, 1838, 760, 1724, 1869, 1344, 426, 460, 837, 489, 141, 1895, 1550, 980, 224, 1902, 1999, 1742, 132, 1789, 1808, 899, 1114, 619, 1147, 916, 915, 879, 1276, 829, 1961, 18, 1300, 1306, 276, 1712, 1975, 218, 540, 1955, 2005, 901, 647, 572, 724, 1781, 1738, 80, 1433, 48, 2017, 259, 1877, 2047, 1770, 1683, 1547, 280, 1914, 326, 363, 1332, 592, 967, 1175, 1880, 1465, 191, 1957, 261, 5, 1307, 1006, 184, 432, 790, 1527, 1530, 225, 29, 1571, 1215, 1221, 2023, 122, 686, 403, 648, 1031, 313, 1051, 1233, 1246, 1685, 1580, 777, 783, 328, 372, 749, 1023, 804, 1929, 1214, 673, 63, 1, 1622, 304, 1001, 1986, 1025, 1356, 335, 1056, 1448, 1329, 1377, 1849, 766, 1076, 1841, 1815, 813, 178, 1159, 1799, 1045, 558, 1286, 1634, 1956, 755, 213, 1375, 659, 1771, 167, 370, 1004, 1652, 751, 1456, 1459, 1371, 471, 1648, 342, 1699, 128, 1094, 732, 1908, 1469, 844, 173, 1923, 2046, 1387, 1737, 1216, 1905, 2000, 45, 1267, 768, 1260, 930, 1428, 1772, 330, 475, 145, 1062, 228, 220, 1603, 1061, 625, 1708, 168, 1757, 635, 1437, 1005, 948, 989, 2041, 1544, 1516, 1948, 1331, 1213, 1191, 1997, 1475, 604, 463, 1478, 428, 1933, 1526, 40, 1003, 242, 1662, 1504, 208, 991, 1844, 1800, 593, 512, 148, 968, 1565, 1097, 31, 629, 180, 556, 1632, 22, 1764, 1323, 357, 358, 2042, 1423, 196, 214, 222, 1890, 1834, 1058, 1265, 1338, 925, 951, 1553, 1950, 781, 758, 1517, 960, 268, 1320, 1430, 806, 1312, 74, 1434, 1228, 1909, 873, 1230, 730, 740, 3, 1572, 1976, 1501, 1452, 1438, 785, 319, 681, 294, 1774, 425, 1447, 2018, 1560, 2032, 1427, 1813, 300, 206, 346, 2027, 1935, 105, 1333, 1500, 1821, 595, 1953, 1875, 689, 1546, 1156, 1212, 1847, 1202, 1697, 348, 905, 1445, 502, 1524, 1388, 2038, 401, 936, 973, 1389, 444, 246, 697, 1993, 1241, 1667, 333, 329, 1199, 317, 258, 937, 1256, 421, 1117, 720, 1284, 646, 954, 1463, 1754, 893, 383, 1075, 1318, 203, 1876, 1892, 1466, 1248, 1919, 33, 282, 461, 292, 1251, 1590, 1149, 1783, 2040, 793, 1931, 555, 964, 1111, 1644, 1703, 687, 441, 192, 1310, 1330, 990, 775, 482, 1638, 207, 1480, 1165, 1710, 1824, 391, 935, 756, 1162, 164, 671, 2024, 675, 943, 156, 86, 1615, 1839, 2020, 1900, 1903, 321, 1341, 1102, 666, 1728, 1992, 1884, 600, 1655, 1848, 1725, 488, 469, 945, 472, 665, 1672, 525, 598, 1083, 1055, 262, 247, 1218, 169, 378, 1210, 624, 1405, 586, 1037, 1315, 1809, 824, 1613, 1418, 221, 1048, 1042, 331, 713, 1297, 582, 59, 1080, 239, 1626, 46, 120, 374, 1641, 1922, 513, 176, 398, 1301, 440, 91, 1965, 2009, 956, 1857, 972, 1269, 616, 1029, 1871, 737, 621, 1108, 858, 340, 1460, 209, 1468, 876, 1479, 1739, 2034, 750, 93, 2026, 1567, 1846, 1899, 841, 495, 397, 1474, 880, 1837, 144, 450, 200, 1533, 1506, 1403, 1751, 894, 609, 1711, 399, 961, 1429, 1098, 1185, 1422, 430, 1237, 58, 480, 275, 177, 419, 382, 929, 24, 1599, 1193, 416, 1242, 738, 541, 1351, 115, 2013, 125, 1633, 546, 872, 2021, 1787, 1419, 1518, 274, 424, 866, 182, 1594, 786, 1705, 116, 1290, 1514, 1059, 1411, 1442, 1188, 1674, 20, 1145, 711, 1234, 1753, 85, 1140, 1995, 978, 1661, 1379, 26, 2019, 900, 361, 561, 1142, 1730, 722, 606, 1749, 402, 1187, 254, 863, 1189, 1509, 2029, 1065, 1721, 613, 1135, 2007, 836, 1362, 278, 1614, 1732, 1690, 1775, 855, 345, 618, 1316, 1579, 1942, 1589, 543, 1625, 287, 661, 789, 408, 1153, 1889, 78, 423, 792, 510, 94, 464, 1605, 814, 112, 1436, 518, 1091, 286, 1855, 1512, 1858, 1352, 1409, 1740, 865, 1645, 1081, 6, 1998, 327, 123, 51, 1897, 491, 1823, 1034, 654, 1273, 1254, 1915, 1814, 1664, 1718, 1293, 279, 309, 840, 1968, 315, 1619, 1013, 651, 1934, 1299, 1629, 1569, 1657, 73, 703, 548, 1359, 1010, 198, 1678, 1767, 1747, 692, 185, 1630, 1974, 538, 1551, 1028, 1143, 1363, 832, 412, 1410, 1277, 550, 849, 1166, 831, 459, 1126, 1651, 1036, 308, 794, 1617, 1872, 982, 302, 2028, 1024, 249, 1353, 1585, 1951, 1816, 623, 104, 1797, 1181, 1688, 277, 650, 114, 952, 727, 1473, 1412, 1791, 868, 1555, 1733, 433, 942, 226, 733, 923, 385, 610, 1372, 1545, 1949, 504, 971, 887, 339, 1918, 1481, 1053, 323, 995, 1413, 314, 553, 1726, 1313, 784, 338, 924, 371, 70, 617, 418, 805, 833, 1186, 1936, 1647, 1274, 257, 1408, 1760, 904, 468, 28, 131, 56, 13, 998, 854, 457, 1748, 1270, 1271, 1105, 884, 1451, 780, 534, 1019, 1139, 1160, 411, 362, 202, 1225, 1455, 1827, 739, 341, 932, 1107, 1336, 75, 62, 1592, 522, 1959, 577, 140, 1735, 842, 2010, 415, 1960, 808, 466, 911, 578, 761, 1018, 1471, 1893, 1490, 118, 611, 4, 344, 1822, 1554, 988, 1904, 1563, 860, 934, 1980, 735, 1203, 1755, 1163, 407, 708, 1786, 1373, 1597, 1656, 316, 1089, 1583, 1244, 318, 1280, 1049, 1882, 1778, 1639, 343, 1945, 1385, 1131, 763, 263, 1731, 211, 1582, 67, 1502, 1239, 1702, 649, 516, 652, 190, 979, 413, 1196, 1681, 524, 663, 1250, 1684, 612, 110, 133, 685, 864, 922, 1485, 913, 1505, 1238, 325, 1677, 230, 435, 21, 1539, 1064, 2037, 1441, 607, 1736, 1278, 974, 702, 1292, 896, 487, 679, 1862, 1068, 197, 1746, 520, 501, 1600, 1659, 57, 1952, 1529, 1167, 171, 839, 1689, 1860, 1807, 710, 959, 1399, 511, 1281, 1226, 1536, 557, 84, 1621, 124, 151, 1991, 532, 602, 975, 1769, 847, 1727, 232, 1407, 1393, 890, 1798, 1649, 1415, 1925, 588, 949, 1198, 1628, 1040, 1924, 387, 928, 1568, 526, 508, 121, 83, 830, 1795, 311, 453, 1483, 802, 127, 567, 465, 897, 381, 639, 446, 1360, 1716, 589, 1495, 1178, 103, 705, 691, 1369]\n"
     ]
    }
   ],
   "source": [
    "for i in range(len(input_list)):\n",
    "    best_dist, best_sol = tsp_simulated_annealing(input_list[i], 1000, 0.99, 10000)\n",
    "    print(\"The Input for\", i, \"is:\", best_dist, best_sol)"
   ]
  },
  {
   "attachments": {},
   "cell_type": "markdown",
   "metadata": {},
   "source": [
    "Optimizations"
   ]
  },
  {
   "cell_type": "code",
   "execution_count": 1,
   "metadata": {},
   "outputs": [],
   "source": [
    "def total_dist(cities):\n",
    "    total_dist = 0\n",
    "    num_cities = len(cities)\n",
    "    for i in range(1, num_cities):\n",
    "        #goes through the current path and its distances from the current solution \n",
    "        total_dist += distance(cities[i-1], cities[i])\n",
    "    #go full circle start to end\n",
    "    total_dist += distance(cities[-1], cities[0])\n",
    "    return total_dist"
   ]
  },
  {
   "cell_type": "code",
   "execution_count": 79,
   "metadata": {},
   "outputs": [
    {
     "data": {
      "text/plain": [
       "3291.6217214092458"
      ]
     },
     "execution_count": 79,
     "metadata": {},
     "output_type": "execute_result"
    }
   ],
   "source": [
    "def one_way(cities):\n",
    "    n = len(cities)\n",
    "    solution = total_dist(cities)\n",
    "    sol = cities\n",
    "    \n",
    "    can_be_better = True\n",
    "    while can_be_better:\n",
    "        can_be_better = False\n",
    "        for i in range(1, n-1):\n",
    "            for j in range(i+1, n):\n",
    "                new = sol[:]\n",
    "                new[i:j] = reversed(new[i:j])\n",
    "                new_dist = total_dist(new)\n",
    "                if new_dist < solution:\n",
    "                    solution = new_dist\n",
    "                    sol = new\n",
    "                    can_be_better = True\n",
    "        cities = sol\n",
    "    return solution"
   ]
  },
  {
   "cell_type": "code",
   "execution_count": 80,
   "metadata": {},
   "outputs": [
    {
     "name": "stdout",
     "output_type": "stream",
     "text": [
      "3291.6217214092458\n",
      "3832.290093905199\n",
      "5356.030477272383\n",
      "9887.266289833799\n",
      "11525.52083879649\n",
      "22521.70994796096\n"
     ]
    },
    {
     "ename": "KeyboardInterrupt",
     "evalue": "",
     "output_type": "error",
     "traceback": [
      "\u001b[0;31m---------------------------------------------------------------------------\u001b[0m",
      "\u001b[0;31mKeyboardInterrupt\u001b[0m                         Traceback (most recent call last)",
      "\u001b[0;32m/var/folders/fs/jlf7ygpn3y9bn6g5c05vhjz00000gn/T/ipykernel_24370/937640138.py\u001b[0m in \u001b[0;36m<module>\u001b[0;34m\u001b[0m\n\u001b[1;32m      1\u001b[0m \u001b[0;32mfor\u001b[0m \u001b[0minput\u001b[0m \u001b[0;32min\u001b[0m \u001b[0minput_list\u001b[0m\u001b[0;34m:\u001b[0m\u001b[0;34m\u001b[0m\u001b[0;34m\u001b[0m\u001b[0m\n\u001b[0;32m----> 2\u001b[0;31m     \u001b[0mprint\u001b[0m\u001b[0;34m(\u001b[0m\u001b[0mone_way\u001b[0m\u001b[0;34m(\u001b[0m\u001b[0minput\u001b[0m\u001b[0;34m)\u001b[0m\u001b[0;34m)\u001b[0m\u001b[0;34m\u001b[0m\u001b[0;34m\u001b[0m\u001b[0m\n\u001b[0m",
      "\u001b[0;32m/var/folders/fs/jlf7ygpn3y9bn6g5c05vhjz00000gn/T/ipykernel_24370/3344169083.py\u001b[0m in \u001b[0;36mone_way\u001b[0;34m(cities)\u001b[0m\n\u001b[1;32m     21\u001b[0m                 \u001b[0mnew\u001b[0m \u001b[0;34m=\u001b[0m \u001b[0msol\u001b[0m\u001b[0;34m[\u001b[0m\u001b[0;34m:\u001b[0m\u001b[0;34m]\u001b[0m\u001b[0;34m\u001b[0m\u001b[0;34m\u001b[0m\u001b[0m\n\u001b[1;32m     22\u001b[0m                 \u001b[0mnew\u001b[0m\u001b[0;34m[\u001b[0m\u001b[0mi\u001b[0m\u001b[0;34m:\u001b[0m\u001b[0mj\u001b[0m\u001b[0;34m]\u001b[0m \u001b[0;34m=\u001b[0m \u001b[0mreversed\u001b[0m\u001b[0;34m(\u001b[0m\u001b[0mnew\u001b[0m\u001b[0;34m[\u001b[0m\u001b[0mi\u001b[0m\u001b[0;34m:\u001b[0m\u001b[0mj\u001b[0m\u001b[0;34m]\u001b[0m\u001b[0;34m)\u001b[0m\u001b[0;34m\u001b[0m\u001b[0;34m\u001b[0m\u001b[0m\n\u001b[0;32m---> 23\u001b[0;31m                 \u001b[0mnew_dist\u001b[0m \u001b[0;34m=\u001b[0m \u001b[0mtotal_dist\u001b[0m\u001b[0;34m(\u001b[0m\u001b[0mnew\u001b[0m\u001b[0;34m)\u001b[0m\u001b[0;34m\u001b[0m\u001b[0;34m\u001b[0m\u001b[0m\n\u001b[0m\u001b[1;32m     24\u001b[0m                 \u001b[0;32mif\u001b[0m \u001b[0mnew_dist\u001b[0m \u001b[0;34m<\u001b[0m \u001b[0msolution\u001b[0m\u001b[0;34m:\u001b[0m\u001b[0;34m\u001b[0m\u001b[0;34m\u001b[0m\u001b[0m\n\u001b[1;32m     25\u001b[0m                     \u001b[0msolution\u001b[0m \u001b[0;34m=\u001b[0m \u001b[0mnew_dist\u001b[0m\u001b[0;34m\u001b[0m\u001b[0;34m\u001b[0m\u001b[0m\n",
      "\u001b[0;32m/var/folders/fs/jlf7ygpn3y9bn6g5c05vhjz00000gn/T/ipykernel_24370/3344169083.py\u001b[0m in \u001b[0;36mtotal_dist\u001b[0;34m(cities)\u001b[0m\n\u001b[1;32m      4\u001b[0m     \u001b[0;32mfor\u001b[0m \u001b[0mi\u001b[0m \u001b[0;32min\u001b[0m \u001b[0mrange\u001b[0m\u001b[0;34m(\u001b[0m\u001b[0;36m1\u001b[0m\u001b[0;34m,\u001b[0m \u001b[0mnum_cities\u001b[0m\u001b[0;34m)\u001b[0m\u001b[0;34m:\u001b[0m\u001b[0;34m\u001b[0m\u001b[0;34m\u001b[0m\u001b[0m\n\u001b[1;32m      5\u001b[0m         \u001b[0;31m#goes through the current path and its distances from the current solution\u001b[0m\u001b[0;34m\u001b[0m\u001b[0;34m\u001b[0m\u001b[0m\n\u001b[0;32m----> 6\u001b[0;31m         \u001b[0mtotal_dist\u001b[0m \u001b[0;34m+=\u001b[0m \u001b[0mdistance\u001b[0m\u001b[0;34m(\u001b[0m\u001b[0mcities\u001b[0m\u001b[0;34m[\u001b[0m\u001b[0mi\u001b[0m\u001b[0;34m-\u001b[0m\u001b[0;36m1\u001b[0m\u001b[0;34m]\u001b[0m\u001b[0;34m,\u001b[0m \u001b[0mcities\u001b[0m\u001b[0;34m[\u001b[0m\u001b[0mi\u001b[0m\u001b[0;34m]\u001b[0m\u001b[0;34m)\u001b[0m\u001b[0;34m\u001b[0m\u001b[0;34m\u001b[0m\u001b[0m\n\u001b[0m\u001b[1;32m      7\u001b[0m     \u001b[0;31m#go full circle start to end\u001b[0m\u001b[0;34m\u001b[0m\u001b[0;34m\u001b[0m\u001b[0m\n\u001b[1;32m      8\u001b[0m     \u001b[0mtotal_dist\u001b[0m \u001b[0;34m+=\u001b[0m \u001b[0mdistance\u001b[0m\u001b[0;34m(\u001b[0m\u001b[0mcities\u001b[0m\u001b[0;34m[\u001b[0m\u001b[0;34m-\u001b[0m\u001b[0;36m1\u001b[0m\u001b[0;34m]\u001b[0m\u001b[0;34m,\u001b[0m \u001b[0mcities\u001b[0m\u001b[0;34m[\u001b[0m\u001b[0;36m0\u001b[0m\u001b[0;34m]\u001b[0m\u001b[0;34m)\u001b[0m\u001b[0;34m\u001b[0m\u001b[0;34m\u001b[0m\u001b[0m\n",
      "\u001b[0;32m/var/folders/fs/jlf7ygpn3y9bn6g5c05vhjz00000gn/T/ipykernel_24370/1363109777.py\u001b[0m in \u001b[0;36mdistance\u001b[0;34m(city1, city2)\u001b[0m\n\u001b[0;32m----> 1\u001b[0;31m \u001b[0;32mdef\u001b[0m \u001b[0mdistance\u001b[0m\u001b[0;34m(\u001b[0m\u001b[0mcity1\u001b[0m\u001b[0;34m,\u001b[0m \u001b[0mcity2\u001b[0m\u001b[0;34m)\u001b[0m\u001b[0;34m:\u001b[0m\u001b[0;34m\u001b[0m\u001b[0;34m\u001b[0m\u001b[0m\n\u001b[0m\u001b[1;32m      2\u001b[0m     \u001b[0;32mreturn\u001b[0m \u001b[0mmath\u001b[0m\u001b[0;34m.\u001b[0m\u001b[0msqrt\u001b[0m\u001b[0;34m(\u001b[0m\u001b[0;34m(\u001b[0m\u001b[0mcity1\u001b[0m\u001b[0;34m[\u001b[0m\u001b[0;36m0\u001b[0m\u001b[0;34m]\u001b[0m \u001b[0;34m-\u001b[0m \u001b[0mcity2\u001b[0m\u001b[0;34m[\u001b[0m\u001b[0;36m0\u001b[0m\u001b[0;34m]\u001b[0m\u001b[0;34m)\u001b[0m \u001b[0;34m**\u001b[0m \u001b[0;36m2\u001b[0m \u001b[0;34m+\u001b[0m \u001b[0;34m(\u001b[0m\u001b[0mcity1\u001b[0m\u001b[0;34m[\u001b[0m\u001b[0;36m1\u001b[0m\u001b[0;34m]\u001b[0m \u001b[0;34m-\u001b[0m \u001b[0mcity2\u001b[0m\u001b[0;34m[\u001b[0m\u001b[0;36m1\u001b[0m\u001b[0;34m]\u001b[0m\u001b[0;34m)\u001b[0m \u001b[0;34m**\u001b[0m \u001b[0;36m2\u001b[0m\u001b[0;34m)\u001b[0m\u001b[0;34m\u001b[0m\u001b[0;34m\u001b[0m\u001b[0m\n",
      "\u001b[0;31mKeyboardInterrupt\u001b[0m: "
     ]
    }
   ],
   "source": [
    "for input in input_list:\n",
    "    print(one_way(input))"
   ]
  }
 ],
 "metadata": {
  "kernelspec": {
   "display_name": "Python 3",
   "language": "python",
   "name": "python3"
  },
  "language_info": {
   "codemirror_mode": {
    "name": "ipython",
    "version": 3
   },
   "file_extension": ".py",
   "mimetype": "text/x-python",
   "name": "python",
   "nbconvert_exporter": "python",
   "pygments_lexer": "ipython3",
   "version": "3.9.13"
  },
  "orig_nbformat": 4
 },
 "nbformat": 4,
 "nbformat_minor": 2
}
