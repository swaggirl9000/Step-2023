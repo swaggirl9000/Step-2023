{
 "cells": [
  {
   "cell_type": "code",
   "execution_count": 1,
   "metadata": {},
   "outputs": [],
   "source": [
    "import math\n",
    "import numpy as np\n",
    "import itertools\n",
    "import random"
   ]
  },
  {
   "attachments": {},
   "cell_type": "markdown",
   "metadata": {},
   "source": [
    "common.py\n",
    "read_input function"
   ]
  },
  {
   "cell_type": "code",
   "execution_count": 2,
   "metadata": {},
   "outputs": [],
   "source": [
    "def read_input(filename):\n",
    "    with open(filename) as f:\n",
    "        cities = []\n",
    "        for line in f.readlines()[1:]:  # Ignore the first line.\n",
    "            xy = line.split(',')\n",
    "            cities.append((float(xy[0]), float(xy[1])))\n",
    "        return cities\n",
    "\n",
    "\n",
    "def format_tour(tour):\n",
    "    return 'index\\n' + '\\n'.join(map(str, tour))\n",
    "\n",
    "\n",
    "def print_tour(tour):\n",
    "    print(format_tour(tour))"
   ]
  },
  {
   "cell_type": "code",
   "execution_count": 10,
   "metadata": {},
   "outputs": [
    {
     "data": {
      "text/plain": [
       "[(214.98279057984195, 762.6903632435094),\n",
       " (1222.0393903625825, 229.56212316547953),\n",
       " (792.6961393471055, 404.5419583098643),\n",
       " (1042.5487563564207, 709.8510160219619),\n",
       " (150.17533883877582, 25.512728869805677)]"
      ]
     },
     "execution_count": 10,
     "metadata": {},
     "output_type": "execute_result"
    }
   ],
   "source": [
    "input0 = read_input(\"/Users/ada/Desktop/google-step-tsp-main/input_0.csv\")\n",
    "input0"
   ]
  },
  {
   "cell_type": "code",
   "execution_count": 11,
   "metadata": {},
   "outputs": [],
   "source": [
    "input1 = read_input(\"/Users/ada/Desktop/google-step-tsp-main/input_1.csv\")\n",
    "input2 = read_input(\"/Users/ada/Desktop/google-step-tsp-main/input_2.csv\")\n",
    "input3 = read_input(\"/Users/ada/Desktop/google-step-tsp-main/input_3.csv\")\n",
    "input4 = read_input(\"/Users/ada/Desktop/google-step-tsp-main/input_4.csv\")\n",
    "input5 = read_input(\"/Users/ada/Desktop/google-step-tsp-main/input_5.csv\")\n",
    "input6 = read_input(\"/Users/ada/Desktop/google-step-tsp-main/input_6.csv\")\n",
    "\n",
    "input_list = [input0, input1, input2, input3, input4, input5, input6]"
   ]
  },
  {
   "cell_type": "code",
   "execution_count": 4,
   "metadata": {},
   "outputs": [],
   "source": [
    "input7 = read_input(\"/Users/ada/Desktop/google-step-tsp-main/input_7.csv\")"
   ]
  },
  {
   "attachments": {},
   "cell_type": "markdown",
   "metadata": {},
   "source": [
    "Calculte the distance!"
   ]
  },
  {
   "cell_type": "code",
   "execution_count": 3,
   "metadata": {},
   "outputs": [],
   "source": [
    "def distance(city1, city2):\n",
    "    return math.sqrt((city1[0] - city2[0]) ** 2 + (city1[1] - city2[1]) ** 2)"
   ]
  },
  {
   "attachments": {},
   "cell_type": "markdown",
   "metadata": {},
   "source": [
    "BRUTE FORCE APPROACH: just go through all possibly combinations"
   ]
  },
  {
   "cell_type": "code",
   "execution_count": 7,
   "metadata": {},
   "outputs": [],
   "source": [
    "def tsp_brute(cities):\n",
    "    num_cities = len(cities)\n",
    "    best_distance = float(\"inf\")\n",
    "    best_solution = None\n",
    "    \n",
    "    #generate list of possible routes to visit\n",
    "    possible_routes = list(itertools.permutations(range(1, num_cities)))\n",
    "    for route in possible_routes:\n",
    "        route = [0] + list(route)\n",
    "        current_distance = 0\n",
    "        cur_stop = route[0]\n",
    "\n",
    "        for next_stop in route:\n",
    "            current_distance += distance(cities[cur_stop], cities[next_stop])\n",
    "            cur_stop = next_stop\n",
    "        current_distance += distance(cities[0], cities[cur_stop])\n",
    "        if  best_distance > current_distance:\n",
    "            best_distance = current_distance\n",
    "            best_solution = route\n",
    "            \n",
    "        # print(best_solution, best_distance)\n",
    "    return best_solution, best_distance\n"
   ]
  },
  {
   "cell_type": "code",
   "execution_count": 8,
   "metadata": {},
   "outputs": [
    {
     "data": {
      "text/plain": [
       "([0, 3, 1, 2, 4], 3291.6217214092458)"
      ]
     },
     "execution_count": 8,
     "metadata": {},
     "output_type": "execute_result"
    }
   ],
   "source": [
    "tsp_brute(input0)"
   ]
  },
  {
   "cell_type": "code",
   "execution_count": 9,
   "metadata": {},
   "outputs": [
    {
     "data": {
      "text/plain": [
       "([0, 4, 2, 6, 1, 5, 3, 7], 3778.715416492538)"
      ]
     },
     "execution_count": 9,
     "metadata": {},
     "output_type": "execute_result"
    }
   ],
   "source": [
    "tsp_brute(input1)"
   ]
  },
  {
   "attachments": {},
   "cell_type": "markdown",
   "metadata": {},
   "source": [
    "TSP with Simulated Annealing:\n",
    "\n",
    "SOURCE: https://medium.com/@francis.allanah/travelling-salesman-problem-using-simulated-annealing-f547a71ab3c6 \n",
    "\n",
    "The SA algorithm simulates the physical process of solid annealing. In this process, a material such as metal or glass is raised to a high temperature and then left to cool, allowing the local regions of order to grow outward. It is a metaheuristic algorithm. \n",
    "\n",
    "Input: \n",
    "- points: a list containing coordinates of the cities\n",
    "- temperature: the initial tempurature for the simulated annlealing\n",
    "- cooling rate: the rate at which the tempuratre drops\n",
    "- iterations: the number of iterations to occur\n",
    "\n",
    "Here, we take a the solution from the greedy algothrm as the current solution and calculate the distance. We start the annealing process for the number of iterations. In each iteration, we create a new solution by randomly swapping two cites and then calculating their distance. If this has a smaller distance, it is a better solution. If it is worse, there is a chance it might be accepted depending on its previous acceptance rate and what the current temperature is. \n",
    "\n",
    "The acceptance probabilty is the exponential function of the ratio of the difference between the two solutions and the current temperature.\n",
    "\n",
    "Ada's Opinion: This algorithm depends on many random factors so it might not be good for a small number of interations and would instead work well with a number of trails. It might not be the best for large data sets then. "
   ]
  },
  {
   "attachments": {},
   "cell_type": "markdown",
   "metadata": {},
   "source": [
    "GREEDY SOLUTION"
   ]
  },
  {
   "cell_type": "code",
   "execution_count": 12,
   "metadata": {},
   "outputs": [
    {
     "data": {
      "text/plain": [
       "[0, 2, 3, 1, 4]"
      ]
     },
     "execution_count": 12,
     "metadata": {},
     "output_type": "execute_result"
    }
   ],
   "source": [
    "def solve_greedy(cities):\n",
    "    N = len(cities)\n",
    "\n",
    "    dist = [[0] * N for i in range(N)]\n",
    "    for i in range(N):\n",
    "        for j in range(i, N):\n",
    "            dist[i][j] = dist[j][i] = distance(cities[i], cities[j])\n",
    "\n",
    "    current_city = 0\n",
    "    unvisited_cities = set(range(1, N))\n",
    "    tour = [current_city]\n",
    "\n",
    "    while unvisited_cities:\n",
    "        next_city = min(unvisited_cities,\n",
    "                        key=lambda city: dist[current_city][city])\n",
    "        unvisited_cities.remove(next_city)\n",
    "        tour.append(next_city)\n",
    "        current_city = next_city\n",
    "    return tour\n",
    "\n",
    "solve_greedy(input0)"
   ]
  },
  {
   "cell_type": "code",
   "execution_count": 11,
   "metadata": {},
   "outputs": [
    {
     "data": {
      "text/plain": [
       "(3418.101599132713, [0, 2, 3, 1, 4])"
      ]
     },
     "execution_count": 11,
     "metadata": {},
     "output_type": "execute_result"
    }
   ],
   "source": [
    "def tsp_simulated_annealing(input_points, temp, cool_rate, iterations):\n",
    "    num_points = len(input_points)\n",
    "    cur_solution = solve_greedy(input_points)   #the current solution can be taken from the greedy solution\n",
    "    best_solution = cur_solution    #set this to be the best solution as of yet\n",
    "\n",
    "    current_distance = 0\n",
    "    best_distance = float(\"inf\")\n",
    "\n",
    "    for i in range(1, num_points):\n",
    "        #goes through the current path and its distances from the current solution \n",
    "        current_distance += distance(input_points[cur_solution[i-1]], input_points[cur_solution[i]])\n",
    "    #go full circle start to end\n",
    "    current_distance += distance(input_points[cur_solution[-1]], input_points[cur_solution[0]])\n",
    "\n",
    "    for _ in range(iterations):\n",
    "        temp *= cool_rate       #decrease the temperature \n",
    "        better_solution = cur_solution[:]\n",
    "\n",
    "        #generate random indexes to swap\n",
    "        index1 = np.random.randint(num_points)\n",
    "        index2 = np.random.randint(num_points)\n",
    "\n",
    "        #swap the cities to see if a new tour is better with this set up\n",
    "        better_solution[index1], better_solution[index2] = better_solution[index2], better_solution[index1]\n",
    "        # print(cur_solution, better_solution)\n",
    "        better_distance = 0\n",
    "        for i in range(1, num_points):\n",
    "        #goes through the current path and its distances from the current solution \n",
    "            better_distance += distance(input_points[cur_solution[i-1]], input_points[cur_solution[i]])\n",
    "    #go full circle start to end\n",
    "        better_distance += distance(input_points[cur_solution[-1]], input_points[cur_solution[0]])\n",
    "        #see if the solution improved\n",
    "        if better_distance <= current_distance:\n",
    "            cur_solution = better_solution\n",
    "            current_distance = better_distance\n",
    "            if better_distance < best_distance:\n",
    "                best_distance = better_distance\n",
    "                better_solution = best_solution\n",
    "        else: #see if you can use this solution in other iterations even if it sucks now\n",
    "            prob = np.exp((current_distance-better_distance)/temp)\n",
    "            if np.random.rand() < prob:\n",
    "                cur_solution = better_solution\n",
    "                current_distance = better_distance\n",
    "\n",
    "    return best_distance, best_solution\n",
    "\n",
    "tsp_simulated_annealing(input0, 100, 0.99, 100)"
   ]
  },
  {
   "cell_type": "code",
   "execution_count": 12,
   "metadata": {},
   "outputs": [
    {
     "name": "stdout",
     "output_type": "stream",
     "text": [
      "The Input for 0 is: 3291.6217214092458 [0, 2, 3, 1, 4]\n",
      "The Input for 1 is: 3832.2900939051997 [0, 7, 2, 3, 5, 1, 6, 4]\n",
      "The Input for 2 is: 5449.435265220031 [0, 8, 7, 14, 2, 3, 5, 11, 1, 6, 9, 15, 12, 10, 13, 4]\n",
      "The Input for 3 is: 10519.161145182472 [0, 50, 36, 10, 30, 57, 16, 12, 44, 25, 32, 53, 38, 35, 51, 19, 61, 6, 63, 1, 29, 5, 48, 18, 24, 47, 58, 26, 59, 46, 22, 31, 3, 33, 7, 27, 54, 52, 2, 34, 49, 43, 55, 40, 23, 11, 41, 9, 45, 37, 20, 42, 39, 60, 8, 14, 15, 21, 28, 56, 13, 62, 4, 17]\n",
      "The Input for 4 is: 12684.059709833355 [0, 72, 119, 50, 36, 98, 64, 117, 66, 30, 57, 96, 81, 109, 127, 60, 86, 100, 87, 8, 79, 76, 77, 44, 99, 69, 32, 95, 53, 114, 104, 38, 71, 97, 73, 51, 123, 92, 19, 61, 6, 90, 9, 101, 45, 111, 41, 113, 5, 29, 122, 88, 68, 94, 78, 31, 22, 112, 40, 80, 48, 18, 115, 125, 126, 23, 11, 106, 37, 103, 20, 85, 116, 26, 58, 47, 107, 24, 59, 120, 46, 91, 93, 105, 3, 74, 33, 7, 27, 54, 52, 2, 34, 49, 43, 55, 14, 82, 121, 83, 25, 16, 12, 102, 67, 21, 124, 84, 28, 56, 13, 110, 118, 4, 75, 62, 70, 10, 15, 89, 17, 65, 35, 63, 1, 42, 39, 108]\n",
      "The Input for 5 is: 25331.843307461648 [0, 130, 72, 135, 227, 393, 360, 509, 417, 355, 8, 299, 79, 359, 219, 420, 86, 156, 100, 175, 87, 474, 364, 136, 448, 486, 334, 267, 488, 223, 396, 490, 165, 241, 203, 383, 42, 285, 39, 108, 469, 246, 444, 401, 502, 472, 348, 329, 317, 258, 421, 74, 3, 345, 222, 214, 196, 357, 358, 22, 180, 31, 148, 287, 408, 78, 423, 510, 94, 464, 68, 462, 286, 347, 187, 195, 380, 272, 229, 142, 55, 43, 49, 476, 447, 351, 249, 459, 308, 302, 389, 349, 19, 305, 327, 123, 51, 92, 279, 309, 386, 369, 353, 162, 188, 431, 379, 491, 412, 73, 198, 97, 71, 179, 366, 455, 315, 35, 493, 281, 233, 500, 38, 256, 104, 277, 114, 394, 377, 155, 442, 390, 253, 375, 332, 354, 456, 32, 266, 405, 507, 215, 158, 387, 508, 121, 83, 25, 237, 295, 201, 505, 499, 238, 312, 109, 134, 231, 127, 164, 391, 311, 453, 207, 367, 470, 410, 303, 497, 7, 356, 441, 192, 82, 199, 14, 252, 429, 324, 250, 291, 34, 2, 52, 392, 439, 194, 473, 183, 438, 159, 352, 264, 414, 234, 273, 271, 153, 268, 461, 292, 282, 270, 33, 479, 452, 255, 27, 443, 503, 54, 482, 321, 458, 60, 427, 297, 204, 216, 77, 76, 310, 322, 98, 139, 64, 163, 36, 388, 290, 119, 50, 301, 350, 395, 217, 244, 373, 245, 337, 445, 293, 96, 81, 146, 212, 296, 376, 149, 496, 44, 236, 483, 99, 69, 138, 197, 16, 12, 102, 433, 67, 211, 325, 288, 15, 506, 478, 150, 263, 343, 181, 161, 160, 89, 186, 193, 318, 316, 407, 133, 110, 466, 415, 362, 411, 202, 341, 75, 62, 140, 344, 4, 118, 457, 232, 13, 56, 28, 131, 468, 257, 418, 70, 371, 338, 511, 84, 151, 124, 413, 190, 230, 435, 21, 314, 323, 339, 248, 400, 117, 66, 166, 30, 57, 501, 487, 504, 385, 226, 171, 365, 10, 53, 95, 185, 283, 243, 189, 65, 143, 17, 265, 251, 284, 434, 61, 481, 129, 477, 178, 335, 304, 1, 63, 372, 313, 328, 403, 492, 122, 29, 225, 363, 326, 280, 259, 48, 80, 463, 428, 40, 242, 112, 208, 254, 402, 218, 276, 18, 115, 416, 24, 382, 419, 177, 275, 480, 58, 430, 26, 361, 209, 340, 398, 176, 331, 374, 59, 239, 46, 120, 221, 425, 294, 319, 300, 206, 346, 105, 278, 262, 247, 169, 378, 440, 91, 93, 450, 200, 144, 495, 397, 116, 85, 20, 182, 424, 274, 399, 269, 436, 47, 307, 449, 107, 404, 320, 37, 210, 437, 240, 147, 406, 260, 152, 306, 132, 224, 154, 11, 106, 172, 137, 157, 205, 298, 113, 451, 261, 191, 5, 184, 432, 422, 126, 23, 141, 489, 460, 426, 467, 168, 220, 228, 145, 475, 330, 45, 336, 174, 9, 101, 368, 90, 342, 128, 471, 485, 173, 484, 409, 111, 289, 41, 498, 235, 384, 170, 88, 125, 494, 381, 446, 465, 103, 333, 454, 213, 6, 167, 370]\n"
     ]
    },
    {
     "ename": "KeyboardInterrupt",
     "evalue": "",
     "output_type": "error",
     "traceback": [
      "\u001b[0;31m---------------------------------------------------------------------------\u001b[0m",
      "\u001b[0;31mKeyboardInterrupt\u001b[0m                         Traceback (most recent call last)",
      "\u001b[1;32m/Users/ada/Desktop/step/tsp_challange_ada.ipynb Cell 16\u001b[0m in \u001b[0;36m2\n\u001b[1;32m      <a href='vscode-notebook-cell:/Users/ada/Desktop/step/tsp_challange_ada.ipynb#X21sZmlsZQ%3D%3D?line=0'>1</a>\u001b[0m \u001b[39mfor\u001b[39;00m i \u001b[39min\u001b[39;00m \u001b[39mrange\u001b[39m(\u001b[39mlen\u001b[39m(input_list)):\n\u001b[0;32m----> <a href='vscode-notebook-cell:/Users/ada/Desktop/step/tsp_challange_ada.ipynb#X21sZmlsZQ%3D%3D?line=1'>2</a>\u001b[0m     best_dist, best_sol \u001b[39m=\u001b[39m tsp_simulated_annealing(input_list[i], \u001b[39m1000\u001b[39;49m, \u001b[39m0.99\u001b[39;49m, \u001b[39m10000\u001b[39;49m)\n\u001b[1;32m      <a href='vscode-notebook-cell:/Users/ada/Desktop/step/tsp_challange_ada.ipynb#X21sZmlsZQ%3D%3D?line=2'>3</a>\u001b[0m     \u001b[39mprint\u001b[39m(\u001b[39m\"\u001b[39m\u001b[39mThe Input for\u001b[39m\u001b[39m\"\u001b[39m, i, \u001b[39m\"\u001b[39m\u001b[39mis:\u001b[39m\u001b[39m\"\u001b[39m, best_dist, best_sol)\n",
      "\u001b[1;32m/Users/ada/Desktop/step/tsp_challange_ada.ipynb Cell 16\u001b[0m in \u001b[0;36m3\n\u001b[1;32m      <a href='vscode-notebook-cell:/Users/ada/Desktop/step/tsp_challange_ada.ipynb#X21sZmlsZQ%3D%3D?line=0'>1</a>\u001b[0m \u001b[39mdef\u001b[39;00m \u001b[39mtsp_simulated_annealing\u001b[39m(input_points, temp, cool_rate, iterations):\n\u001b[1;32m      <a href='vscode-notebook-cell:/Users/ada/Desktop/step/tsp_challange_ada.ipynb#X21sZmlsZQ%3D%3D?line=1'>2</a>\u001b[0m     num_points \u001b[39m=\u001b[39m \u001b[39mlen\u001b[39m(input_points)\n\u001b[0;32m----> <a href='vscode-notebook-cell:/Users/ada/Desktop/step/tsp_challange_ada.ipynb#X21sZmlsZQ%3D%3D?line=2'>3</a>\u001b[0m     cur_solution \u001b[39m=\u001b[39m solve_greedy(input_points)   \u001b[39m#the current solution can be taken from the greedy solution\u001b[39;00m\n\u001b[1;32m      <a href='vscode-notebook-cell:/Users/ada/Desktop/step/tsp_challange_ada.ipynb#X21sZmlsZQ%3D%3D?line=3'>4</a>\u001b[0m     best_solution \u001b[39m=\u001b[39m cur_solution    \u001b[39m#set this to be the best solution as of yet\u001b[39;00m\n\u001b[1;32m      <a href='vscode-notebook-cell:/Users/ada/Desktop/step/tsp_challange_ada.ipynb#X21sZmlsZQ%3D%3D?line=5'>6</a>\u001b[0m     current_distance \u001b[39m=\u001b[39m \u001b[39m0\u001b[39m\n",
      "\u001b[1;32m/Users/ada/Desktop/step/tsp_challange_ada.ipynb Cell 16\u001b[0m in \u001b[0;36m7\n\u001b[1;32m      <a href='vscode-notebook-cell:/Users/ada/Desktop/step/tsp_challange_ada.ipynb#X21sZmlsZQ%3D%3D?line=4'>5</a>\u001b[0m \u001b[39mfor\u001b[39;00m i \u001b[39min\u001b[39;00m \u001b[39mrange\u001b[39m(N):\n\u001b[1;32m      <a href='vscode-notebook-cell:/Users/ada/Desktop/step/tsp_challange_ada.ipynb#X21sZmlsZQ%3D%3D?line=5'>6</a>\u001b[0m     \u001b[39mfor\u001b[39;00m j \u001b[39min\u001b[39;00m \u001b[39mrange\u001b[39m(i, N):\n\u001b[0;32m----> <a href='vscode-notebook-cell:/Users/ada/Desktop/step/tsp_challange_ada.ipynb#X21sZmlsZQ%3D%3D?line=6'>7</a>\u001b[0m         dist[i][j] \u001b[39m=\u001b[39m dist[j][i] \u001b[39m=\u001b[39m distance(cities[i], cities[j])\n\u001b[1;32m      <a href='vscode-notebook-cell:/Users/ada/Desktop/step/tsp_challange_ada.ipynb#X21sZmlsZQ%3D%3D?line=8'>9</a>\u001b[0m current_city \u001b[39m=\u001b[39m \u001b[39m0\u001b[39m\n\u001b[1;32m     <a href='vscode-notebook-cell:/Users/ada/Desktop/step/tsp_challange_ada.ipynb#X21sZmlsZQ%3D%3D?line=9'>10</a>\u001b[0m unvisited_cities \u001b[39m=\u001b[39m \u001b[39mset\u001b[39m(\u001b[39mrange\u001b[39m(\u001b[39m1\u001b[39m, N))\n",
      "\u001b[1;32m/Users/ada/Desktop/step/tsp_challange_ada.ipynb Cell 16\u001b[0m in \u001b[0;36m2\n\u001b[1;32m      <a href='vscode-notebook-cell:/Users/ada/Desktop/step/tsp_challange_ada.ipynb#X21sZmlsZQ%3D%3D?line=0'>1</a>\u001b[0m \u001b[39mdef\u001b[39;00m \u001b[39mdistance\u001b[39m(city1, city2):\n\u001b[0;32m----> <a href='vscode-notebook-cell:/Users/ada/Desktop/step/tsp_challange_ada.ipynb#X21sZmlsZQ%3D%3D?line=1'>2</a>\u001b[0m     \u001b[39mreturn\u001b[39;00m math\u001b[39m.\u001b[39msqrt((city1[\u001b[39m0\u001b[39;49m] \u001b[39m-\u001b[39m city2[\u001b[39m0\u001b[39m]) \u001b[39m*\u001b[39m\u001b[39m*\u001b[39m \u001b[39m2\u001b[39m \u001b[39m+\u001b[39m (city1[\u001b[39m1\u001b[39m] \u001b[39m-\u001b[39m city2[\u001b[39m1\u001b[39m]) \u001b[39m*\u001b[39m\u001b[39m*\u001b[39m \u001b[39m2\u001b[39m)\n",
      "\u001b[0;31mKeyboardInterrupt\u001b[0m: "
     ]
    }
   ],
   "source": [
    "for i in range(len(input_list)):\n",
    "    best_dist, best_sol = tsp_simulated_annealing(input_list[i], 1000, 0.99, 10000)\n",
    "    print(\"The Input for\", i, \"is:\", best_dist, best_sol)"
   ]
  },
  {
   "attachments": {},
   "cell_type": "markdown",
   "metadata": {},
   "source": [
    "Optimizations"
   ]
  },
  {
   "cell_type": "code",
   "execution_count": 13,
   "metadata": {},
   "outputs": [],
   "source": [
    "def total_dist(cities):\n",
    "    total_dist = 0\n",
    "    num_cities = len(cities)\n",
    "    for i in range(1, num_cities):\n",
    "        #goes through the current path and its distances from the current solution \n",
    "        total_dist += distance(cities[i-1], cities[i])\n",
    "    #go full circle start to end\n",
    "    total_dist += distance(cities[-1], cities[0])\n",
    "    return total_dist"
   ]
  },
  {
   "cell_type": "code",
   "execution_count": 14,
   "metadata": {},
   "outputs": [],
   "source": [
    "def one_way(cities):\n",
    "    n = len(cities)\n",
    "    solution = total_dist(cities)\n",
    "    sol = cities\n",
    "    \n",
    "    can_be_better = True\n",
    "    while can_be_better:\n",
    "        can_be_better = False\n",
    "        for i in range(1, n-1):\n",
    "            for j in range(i+1, n):\n",
    "                new = sol[:]\n",
    "                new[i:j] = reversed(new[i:j])\n",
    "                new_dist = total_dist(new)\n",
    "                if new_dist < solution:\n",
    "                    solution = new_dist\n",
    "                    sol = new\n",
    "                    can_be_better = True\n",
    "        cities = sol\n",
    "    return solution"
   ]
  },
  {
   "cell_type": "code",
   "execution_count": null,
   "metadata": {},
   "outputs": [],
   "source": [
    "print(one_way(input7))"
   ]
  },
  {
   "cell_type": "code",
   "execution_count": null,
   "metadata": {},
   "outputs": [
    {
     "name": "stdout",
     "output_type": "stream",
     "text": [
      "3291.6217214092458\n",
      "3832.290093905199\n",
      "5356.030477272383\n",
      "9887.266289833799\n",
      "11525.52083879649\n",
      "22521.70994796096\n"
     ]
    },
    {
     "ename": "KeyboardInterrupt",
     "evalue": "",
     "output_type": "error",
     "traceback": [
      "\u001b[0;31m---------------------------------------------------------------------------\u001b[0m",
      "\u001b[0;31mKeyboardInterrupt\u001b[0m                         Traceback (most recent call last)",
      "\u001b[0;32m/var/folders/fs/jlf7ygpn3y9bn6g5c05vhjz00000gn/T/ipykernel_24370/937640138.py\u001b[0m in \u001b[0;36m<module>\u001b[0;34m\u001b[0m\n\u001b[1;32m      1\u001b[0m \u001b[0;32mfor\u001b[0m \u001b[0minput\u001b[0m \u001b[0;32min\u001b[0m \u001b[0minput_list\u001b[0m\u001b[0;34m:\u001b[0m\u001b[0;34m\u001b[0m\u001b[0;34m\u001b[0m\u001b[0m\n\u001b[0;32m----> 2\u001b[0;31m     \u001b[0mprint\u001b[0m\u001b[0;34m(\u001b[0m\u001b[0mone_way\u001b[0m\u001b[0;34m(\u001b[0m\u001b[0minput\u001b[0m\u001b[0;34m)\u001b[0m\u001b[0;34m)\u001b[0m\u001b[0;34m\u001b[0m\u001b[0;34m\u001b[0m\u001b[0m\n\u001b[0m",
      "\u001b[0;32m/var/folders/fs/jlf7ygpn3y9bn6g5c05vhjz00000gn/T/ipykernel_24370/3344169083.py\u001b[0m in \u001b[0;36mone_way\u001b[0;34m(cities)\u001b[0m\n\u001b[1;32m     21\u001b[0m                 \u001b[0mnew\u001b[0m \u001b[0;34m=\u001b[0m \u001b[0msol\u001b[0m\u001b[0;34m[\u001b[0m\u001b[0;34m:\u001b[0m\u001b[0;34m]\u001b[0m\u001b[0;34m\u001b[0m\u001b[0;34m\u001b[0m\u001b[0m\n\u001b[1;32m     22\u001b[0m                 \u001b[0mnew\u001b[0m\u001b[0;34m[\u001b[0m\u001b[0mi\u001b[0m\u001b[0;34m:\u001b[0m\u001b[0mj\u001b[0m\u001b[0;34m]\u001b[0m \u001b[0;34m=\u001b[0m \u001b[0mreversed\u001b[0m\u001b[0;34m(\u001b[0m\u001b[0mnew\u001b[0m\u001b[0;34m[\u001b[0m\u001b[0mi\u001b[0m\u001b[0;34m:\u001b[0m\u001b[0mj\u001b[0m\u001b[0;34m]\u001b[0m\u001b[0;34m)\u001b[0m\u001b[0;34m\u001b[0m\u001b[0;34m\u001b[0m\u001b[0m\n\u001b[0;32m---> 23\u001b[0;31m                 \u001b[0mnew_dist\u001b[0m \u001b[0;34m=\u001b[0m \u001b[0mtotal_dist\u001b[0m\u001b[0;34m(\u001b[0m\u001b[0mnew\u001b[0m\u001b[0;34m)\u001b[0m\u001b[0;34m\u001b[0m\u001b[0;34m\u001b[0m\u001b[0m\n\u001b[0m\u001b[1;32m     24\u001b[0m                 \u001b[0;32mif\u001b[0m \u001b[0mnew_dist\u001b[0m \u001b[0;34m<\u001b[0m \u001b[0msolution\u001b[0m\u001b[0;34m:\u001b[0m\u001b[0;34m\u001b[0m\u001b[0;34m\u001b[0m\u001b[0m\n\u001b[1;32m     25\u001b[0m                     \u001b[0msolution\u001b[0m \u001b[0;34m=\u001b[0m \u001b[0mnew_dist\u001b[0m\u001b[0;34m\u001b[0m\u001b[0;34m\u001b[0m\u001b[0m\n",
      "\u001b[0;32m/var/folders/fs/jlf7ygpn3y9bn6g5c05vhjz00000gn/T/ipykernel_24370/3344169083.py\u001b[0m in \u001b[0;36mtotal_dist\u001b[0;34m(cities)\u001b[0m\n\u001b[1;32m      4\u001b[0m     \u001b[0;32mfor\u001b[0m \u001b[0mi\u001b[0m \u001b[0;32min\u001b[0m \u001b[0mrange\u001b[0m\u001b[0;34m(\u001b[0m\u001b[0;36m1\u001b[0m\u001b[0;34m,\u001b[0m \u001b[0mnum_cities\u001b[0m\u001b[0;34m)\u001b[0m\u001b[0;34m:\u001b[0m\u001b[0;34m\u001b[0m\u001b[0;34m\u001b[0m\u001b[0m\n\u001b[1;32m      5\u001b[0m         \u001b[0;31m#goes through the current path and its distances from the current solution\u001b[0m\u001b[0;34m\u001b[0m\u001b[0;34m\u001b[0m\u001b[0m\n\u001b[0;32m----> 6\u001b[0;31m         \u001b[0mtotal_dist\u001b[0m \u001b[0;34m+=\u001b[0m \u001b[0mdistance\u001b[0m\u001b[0;34m(\u001b[0m\u001b[0mcities\u001b[0m\u001b[0;34m[\u001b[0m\u001b[0mi\u001b[0m\u001b[0;34m-\u001b[0m\u001b[0;36m1\u001b[0m\u001b[0;34m]\u001b[0m\u001b[0;34m,\u001b[0m \u001b[0mcities\u001b[0m\u001b[0;34m[\u001b[0m\u001b[0mi\u001b[0m\u001b[0;34m]\u001b[0m\u001b[0;34m)\u001b[0m\u001b[0;34m\u001b[0m\u001b[0;34m\u001b[0m\u001b[0m\n\u001b[0m\u001b[1;32m      7\u001b[0m     \u001b[0;31m#go full circle start to end\u001b[0m\u001b[0;34m\u001b[0m\u001b[0;34m\u001b[0m\u001b[0m\n\u001b[1;32m      8\u001b[0m     \u001b[0mtotal_dist\u001b[0m \u001b[0;34m+=\u001b[0m \u001b[0mdistance\u001b[0m\u001b[0;34m(\u001b[0m\u001b[0mcities\u001b[0m\u001b[0;34m[\u001b[0m\u001b[0;34m-\u001b[0m\u001b[0;36m1\u001b[0m\u001b[0;34m]\u001b[0m\u001b[0;34m,\u001b[0m \u001b[0mcities\u001b[0m\u001b[0;34m[\u001b[0m\u001b[0;36m0\u001b[0m\u001b[0;34m]\u001b[0m\u001b[0;34m)\u001b[0m\u001b[0;34m\u001b[0m\u001b[0;34m\u001b[0m\u001b[0m\n",
      "\u001b[0;32m/var/folders/fs/jlf7ygpn3y9bn6g5c05vhjz00000gn/T/ipykernel_24370/1363109777.py\u001b[0m in \u001b[0;36mdistance\u001b[0;34m(city1, city2)\u001b[0m\n\u001b[0;32m----> 1\u001b[0;31m \u001b[0;32mdef\u001b[0m \u001b[0mdistance\u001b[0m\u001b[0;34m(\u001b[0m\u001b[0mcity1\u001b[0m\u001b[0;34m,\u001b[0m \u001b[0mcity2\u001b[0m\u001b[0;34m)\u001b[0m\u001b[0;34m:\u001b[0m\u001b[0;34m\u001b[0m\u001b[0;34m\u001b[0m\u001b[0m\n\u001b[0m\u001b[1;32m      2\u001b[0m     \u001b[0;32mreturn\u001b[0m \u001b[0mmath\u001b[0m\u001b[0;34m.\u001b[0m\u001b[0msqrt\u001b[0m\u001b[0;34m(\u001b[0m\u001b[0;34m(\u001b[0m\u001b[0mcity1\u001b[0m\u001b[0;34m[\u001b[0m\u001b[0;36m0\u001b[0m\u001b[0;34m]\u001b[0m \u001b[0;34m-\u001b[0m \u001b[0mcity2\u001b[0m\u001b[0;34m[\u001b[0m\u001b[0;36m0\u001b[0m\u001b[0;34m]\u001b[0m\u001b[0;34m)\u001b[0m \u001b[0;34m**\u001b[0m \u001b[0;36m2\u001b[0m \u001b[0;34m+\u001b[0m \u001b[0;34m(\u001b[0m\u001b[0mcity1\u001b[0m\u001b[0;34m[\u001b[0m\u001b[0;36m1\u001b[0m\u001b[0;34m]\u001b[0m \u001b[0;34m-\u001b[0m \u001b[0mcity2\u001b[0m\u001b[0;34m[\u001b[0m\u001b[0;36m1\u001b[0m\u001b[0;34m]\u001b[0m\u001b[0;34m)\u001b[0m \u001b[0;34m**\u001b[0m \u001b[0;36m2\u001b[0m\u001b[0;34m)\u001b[0m\u001b[0;34m\u001b[0m\u001b[0;34m\u001b[0m\u001b[0m\n",
      "\u001b[0;31mKeyboardInterrupt\u001b[0m: "
     ]
    }
   ],
   "source": [
    "for input in input_list:\n",
    "    print(one_way(input))"
   ]
  },
  {
   "attachments": {},
   "cell_type": "markdown",
   "metadata": {},
   "source": [
    "ANT COLONY OPTIMIZATION:\n",
    "Source: https://strikingloo.github.io/ant-colony-optimization-tsp \n",
    "This algortihm represents a single ant going through the graph one node at a time.\n",
    "The ant starts from a given node and will continue by choosing an univisted node\n",
    "\n",
    "The function takes in the distance matrix, number of ants, number of iterations, the evaporation rate, and the pheromone deposit as parameters. The evaporation rate and pheromone deposit are the least clear of the paramaters to one who does not know the alogirthm. So let me eplain!\n",
    "\n",
    "Evaporation rate: this determines the rate at which the pheromone trials become water. It makes sure we have a number of different paths to explore and we do not get stuck in the same cycle visitng the same nodes. It is usually between 0 and 1, where 0 means no evaportaion and 1 means complete. Usually, people used a rate of 0.1 or 0.2, which is what I will use too.\n",
    "\n",
    "Pheromone deposit: this is the amount of pheromones deposited by ants on the edges of the graph (in my case a distance matrix). The ants deposit pheromones in order to specify wheter the path they are on is a good path for a bad one. In this algorithm, the shorter the path the more pheromone is left and the longer the path, the less is left. "
   ]
  },
  {
   "cell_type": "code",
   "execution_count": 15,
   "metadata": {},
   "outputs": [],
   "source": [
    "#create distance matrix\n",
    "def create_distance_matrix(cities):\n",
    "    num_cities = len(cities)\n",
    "    distance_matrix = [[0.0]*num_cities for _ in range(num_cities)]\n",
    "    for i in range(num_cities):\n",
    "        for j in range(num_cities):\n",
    "            distance_matrix[i][j] = distance(cities[i], cities[j])\n",
    "    \n",
    "    return distance_matrix"
   ]
  },
  {
   "cell_type": "code",
   "execution_count": 16,
   "metadata": {},
   "outputs": [
    {
     "name": "stdout",
     "output_type": "stream",
     "text": [
      "[0.0, 1139.468611035281, 679.7227326641358, 829.251122595876, 740.0208580992705]\n",
      "[1139.468611035281, 0.0, 463.63085520669887, 512.7321993957855, 1091.1135139211965]\n",
      "[679.7227326641358, 463.63085520669887, 0.0, 394.51229505232465, 745.9866861116151]\n",
      "[829.251122595876, 512.7321993957855, 394.51229505232465, 0.0, 1124.5662308439055]\n",
      "[740.0208580992705, 1091.1135139211965, 745.9866861116151, 1124.5662308439055, 0.0]\n"
     ]
    }
   ],
   "source": [
    "dm = create_distance_matrix(input0)\n",
    "for r in dm:\n",
    "    print(r)"
   ]
  },
  {
   "cell_type": "code",
   "execution_count": 17,
   "metadata": {},
   "outputs": [],
   "source": [
    "def ant_colony_optimization(distance_matrix, num_ants, num_iterations, evap_rate, pheromone_level):\n",
    "    cities = len(distance_matrix)\n",
    "    best_path = None                     #you can preset this to None\n",
    "    best_distance = float(\"inf\")        #default value\n",
    "\n",
    "    #intial pheromone matrix where each edge start with a value of 1.0 for fairness\n",
    "    #this will be modified depending on the paths the ants choose\n",
    "    pheromone = [[1.0] * cities for _ in range(cities)] \n",
    "\n",
    "    for iteration in range(num_iterations):\n",
    "        path_list = []\n",
    "        distances = []\n",
    "\n",
    "        #create paths for all ants\n",
    "        for _ in range(num_ants):\n",
    "            path = []\n",
    "            visited = set()     #store all visited cities\n",
    "            cur_city = random.randint(0, cities-1)   #choose a random starting point\n",
    "            path.append(cur_city)\n",
    "            visited.add(cur_city)\n",
    "\n",
    "            #Now we create the path\n",
    "            for _ in range(cities):\n",
    "                prob = []   #probabilty of selecting a city\n",
    "\n",
    "                #calculate the probabilty of visiting the next city\n",
    "                for city in range(cities):\n",
    "                    if city not in visited:\n",
    "                        pheromone_level = pheromone[cur_city][city] #pheromones are accesed from pheromone matrix\n",
    "                        cur_dist = distance_matrix[cur_city][city]  #we precalcuated disntances in the matrix\n",
    "                        prob.append((city, pheromone_level ** 2 / cur_dist))\n",
    "                \n",
    "                if len(prob) == 0:\n",
    "                    break\n",
    "                #choose next city based on probabilties\n",
    "                total = sum(p for i,p in prob)\n",
    "                #creates a pair of city and its probabilty \n",
    "                prob = [(city,p/total) for city, p in prob]\n",
    "                #choose a city based on its\n",
    "                next_city = random.choices(range(len(prob)), weights=[p for i,p in prob])[0]\n",
    "\n",
    "                #update path\n",
    "                path.append(prob[next_city][0])\n",
    "                visited.add(prob[next_city][0])\n",
    "                cur_city = prob[next_city][0]\n",
    "            \n",
    "            #find total distnace of the path\n",
    "            total_distance = sum(distance_matrix[path[i]][path[i+1]] for i in range(cities-1))\n",
    "            total_distance += distance_matrix[path[-1]][path[0]]\n",
    "            path_list.append(path)\n",
    "            distances.append(total_distance)\n",
    "\n",
    "            #update the best path and distance\n",
    "            if total_distance < best_distance:\n",
    "                best_distance = total_distance\n",
    "                best_path = path\n",
    "        \n",
    "        #update the pheromone levels\n",
    "        for x in range(cities):\n",
    "            for y in range(cities):\n",
    "                if x != y:\n",
    "                    pheromone[x][y] *= (1-evap_rate)\n",
    "        \n",
    "        # for path, dist in zip(path_list, distances):\n",
    "        #     for x in range(cities-1):\n",
    "        #         pheromone[path[x]][path[x+1]] += pheromone_level/total_distance\n",
    "        for i in range(num_ants):\n",
    "            path = path_list[i]\n",
    "            dist = distances[i]\n",
    "            for x in range(cities - 1):\n",
    "                pheromone[path[x]][path[x+1]] += pheromone_level / total_distance\n",
    "    \n",
    "    return best_distance, best_path\n",
    "\n",
    "        "
   ]
  },
  {
   "cell_type": "code",
   "execution_count": 60,
   "metadata": {},
   "outputs": [
    {
     "name": "stdout",
     "output_type": "stream",
     "text": [
      "3291.6217214092458\n",
      "[4, 2, 1, 3, 0]\n"
     ]
    }
   ],
   "source": [
    "distance_mat0 = create_distance_matrix(input0)\n",
    "num_ants = 10\n",
    "num_iterations = 100\n",
    "evaportaion_rate = 0.1\n",
    "pheromone_num = 1.0\n",
    "best_path, best_dist = ant_colony_optimization(distance_mat0,num_ants, num_iterations, evaportaion_rate, pheromone_num)\n",
    "print(best_path)\n",
    "print(best_dist)"
   ]
  },
  {
   "cell_type": "code",
   "execution_count": 61,
   "metadata": {},
   "outputs": [
    {
     "name": "stdout",
     "output_type": "stream",
     "text": [
      "3778.7154164925378\n",
      "[5, 1, 6, 2, 4, 0, 7, 3]\n"
     ]
    }
   ],
   "source": [
    "distance_mat1 = create_distance_matrix(input1)\n",
    "num_ants = 100\n",
    "num_iterations = 1000\n",
    "evaportaion_rate = 0.1\n",
    "pheromone_num = 1.0\n",
    "best_path, best_dist = ant_colony_optimization(distance_mat1,num_ants, num_iterations, evaportaion_rate, pheromone_num)\n",
    "print(best_path)\n",
    "print(best_dist)"
   ]
  },
  {
   "cell_type": "code",
   "execution_count": 18,
   "metadata": {},
   "outputs": [
    {
     "ename": "KeyboardInterrupt",
     "evalue": "",
     "output_type": "error",
     "traceback": [
      "\u001b[0;31m---------------------------------------------------------------------------\u001b[0m",
      "\u001b[0;31mKeyboardInterrupt\u001b[0m                         Traceback (most recent call last)",
      "\u001b[0;32m/var/folders/fs/jlf7ygpn3y9bn6g5c05vhjz00000gn/T/ipykernel_6312/3123350833.py\u001b[0m in \u001b[0;36m<module>\u001b[0;34m\u001b[0m\n\u001b[1;32m      4\u001b[0m \u001b[0mevaportaion_rate\u001b[0m \u001b[0;34m=\u001b[0m \u001b[0;36m0.1\u001b[0m\u001b[0;34m\u001b[0m\u001b[0;34m\u001b[0m\u001b[0m\n\u001b[1;32m      5\u001b[0m \u001b[0mpheromone_num\u001b[0m \u001b[0;34m=\u001b[0m \u001b[0;36m1.0\u001b[0m\u001b[0;34m\u001b[0m\u001b[0;34m\u001b[0m\u001b[0m\n\u001b[0;32m----> 6\u001b[0;31m \u001b[0mbest_path\u001b[0m\u001b[0;34m,\u001b[0m \u001b[0mbest_dist\u001b[0m \u001b[0;34m=\u001b[0m \u001b[0mant_colony_optimization\u001b[0m\u001b[0;34m(\u001b[0m\u001b[0mdistance_mat6\u001b[0m\u001b[0;34m,\u001b[0m\u001b[0mnum_ants\u001b[0m\u001b[0;34m,\u001b[0m \u001b[0mnum_iterations\u001b[0m\u001b[0;34m,\u001b[0m \u001b[0mevaportaion_rate\u001b[0m\u001b[0;34m,\u001b[0m \u001b[0mpheromone_num\u001b[0m\u001b[0;34m)\u001b[0m\u001b[0;34m\u001b[0m\u001b[0;34m\u001b[0m\u001b[0m\n\u001b[0m\u001b[1;32m      7\u001b[0m \u001b[0mprint\u001b[0m\u001b[0;34m(\u001b[0m\u001b[0mbest_path\u001b[0m\u001b[0;34m)\u001b[0m\u001b[0;34m\u001b[0m\u001b[0;34m\u001b[0m\u001b[0m\n\u001b[1;32m      8\u001b[0m \u001b[0mprint\u001b[0m\u001b[0;34m(\u001b[0m\u001b[0mbest_dist\u001b[0m\u001b[0;34m)\u001b[0m\u001b[0;34m\u001b[0m\u001b[0;34m\u001b[0m\u001b[0m\n",
      "\u001b[0;32m/var/folders/fs/jlf7ygpn3y9bn6g5c05vhjz00000gn/T/ipykernel_6312/1488692424.py\u001b[0m in \u001b[0;36mant_colony_optimization\u001b[0;34m(distance_matrix, num_ants, num_iterations, evap_rate, pheromone_level)\u001b[0m\n\u001b[1;32m     28\u001b[0m                     \u001b[0;32mif\u001b[0m \u001b[0mcity\u001b[0m \u001b[0;32mnot\u001b[0m \u001b[0;32min\u001b[0m \u001b[0mvisited\u001b[0m\u001b[0;34m:\u001b[0m\u001b[0;34m\u001b[0m\u001b[0;34m\u001b[0m\u001b[0m\n\u001b[1;32m     29\u001b[0m                         \u001b[0mpheromone_level\u001b[0m \u001b[0;34m=\u001b[0m \u001b[0mpheromone\u001b[0m\u001b[0;34m[\u001b[0m\u001b[0mcur_city\u001b[0m\u001b[0;34m]\u001b[0m\u001b[0;34m[\u001b[0m\u001b[0mcity\u001b[0m\u001b[0;34m]\u001b[0m \u001b[0;31m#pheromones are accesed from pheromone matrix\u001b[0m\u001b[0;34m\u001b[0m\u001b[0;34m\u001b[0m\u001b[0m\n\u001b[0;32m---> 30\u001b[0;31m                         \u001b[0mcur_dist\u001b[0m \u001b[0;34m=\u001b[0m \u001b[0mdistance_matrix\u001b[0m\u001b[0;34m[\u001b[0m\u001b[0mcur_city\u001b[0m\u001b[0;34m]\u001b[0m\u001b[0;34m[\u001b[0m\u001b[0mcity\u001b[0m\u001b[0;34m]\u001b[0m  \u001b[0;31m#we precalcuated disntances in the matrix\u001b[0m\u001b[0;34m\u001b[0m\u001b[0;34m\u001b[0m\u001b[0m\n\u001b[0m\u001b[1;32m     31\u001b[0m                         \u001b[0mprob\u001b[0m\u001b[0;34m.\u001b[0m\u001b[0mappend\u001b[0m\u001b[0;34m(\u001b[0m\u001b[0;34m(\u001b[0m\u001b[0mcity\u001b[0m\u001b[0;34m,\u001b[0m \u001b[0mpheromone_level\u001b[0m \u001b[0;34m**\u001b[0m \u001b[0;36m2\u001b[0m \u001b[0;34m/\u001b[0m \u001b[0mcur_dist\u001b[0m\u001b[0;34m)\u001b[0m\u001b[0;34m)\u001b[0m\u001b[0;34m\u001b[0m\u001b[0;34m\u001b[0m\u001b[0m\n\u001b[1;32m     32\u001b[0m \u001b[0;34m\u001b[0m\u001b[0m\n",
      "\u001b[0;31mKeyboardInterrupt\u001b[0m: "
     ]
    }
   ],
   "source": [
    "distance_mat6 = create_distance_matrix(input6)\n",
    "num_ants = 100\n",
    "num_iterations = 1000\n",
    "evaportaion_rate = 0.1\n",
    "pheromone_num = 1.0\n",
    "best_path, best_dist = ant_colony_optimization(distance_mat6,num_ants, num_iterations, evaportaion_rate, pheromone_num)\n",
    "print(best_path)\n",
    "print(best_dist)"
   ]
  },
  {
   "attachments": {},
   "cell_type": "markdown",
   "metadata": {},
   "source": [
    "Lin-Kernighan Heuristic:\n",
    "\n",
    "Inspiration from fellow STEP student Hisaki Seki: https://gist.github.com/cherr0406/024b670dcd8aa2d166b9bcda11564a10\n",
    "\n",
    "References: https://en.wikipedia.org/wiki/Lin–Kernighan_heuristic\n",
    "            https://arthur.maheo.net/implementing-lin-kernighan-in-python/ "
   ]
  },
  {
   "cell_type": "code",
   "execution_count": null,
   "metadata": {},
   "outputs": [],
   "source": [
    "#generates all possible clusters of stops that can be connected with the current stop\n",
    "#i is the current city \n",
    "# k is number of edfes that will be exchnaged\n",
    "# return a list of the clusters\n",
    "def make_clusters(tour, i, k):\n",
    "    clusters = []\n",
    "    num_cities = len(tour)\n",
    "\n",
    "    for j in range(i+1, i+1+k):\n",
    "        cluster = []\n",
    "\n",
    "        for _ in range(k):\n",
    "            cluster.append(tour[j % num_cities])\n",
    "            j += 1\n",
    "        \n",
    "        clusters.append(cluster)\n",
    "    return clusters"
   ]
  },
  {
   "cell_type": "code",
   "execution_count": null,
   "metadata": {},
   "outputs": [],
   "source": [
    "def perform_k_opt_exchange(tour, i, cluster):\n",
    "    new_tour = tour[:i+1] + cluster[::-1] + tour[i+len(cluster)+1:]\n",
    "    return new_tour"
   ]
  },
  {
   "cell_type": "code",
   "execution_count": null,
   "metadata": {},
   "outputs": [],
   "source": [
    "def calc_cost(distance_mat, tour):\n",
    "    cost = 0.0\n",
    "    num_cities = len(tour)\n",
    "    for i in range(num_cities):\n",
    "        cost += distance_mat[tour[i]][tour[(i + 1) % num_cities]]\n",
    "    return cost"
   ]
  },
  {
   "cell_type": "code",
   "execution_count": null,
   "metadata": {},
   "outputs": [],
   "source": [
    "def lin_kernighan(distance_mat, initial_tour):\n",
    "    best_tour = initial_tour\n",
    "    best_length = calc_cost(distance_mat, best_tour)\n",
    "\n",
    "    while True:\n",
    "        imporved = False\n",
    "\n",
    "        for i in range(len(best_tour)):\n",
    "            for k in range(2,4):    #k-opt for exchnaging 2 or 3 edges\n",
    "                mini_tours = make_clusters(best_tour, i, k)\n",
    "\n",
    "                for tour in mini_tours:\n",
    "                    new_tour = perform_k_opt_exchange(best_tour, i, tour)\n",
    "                    new_legnth = calc_cost(distance_mat, new_tour)\n",
    "\n",
    "                    if new_legnth < best_length:\n",
    "                        best_tour = new_tour\n",
    "                        best_length = new_legnth\n",
    "                        imporved = True\n",
    "        if not imporved:\n",
    "            break\n",
    "    return best_length, best_tour"
   ]
  },
  {
   "cell_type": "code",
   "execution_count": null,
   "metadata": {},
   "outputs": [],
   "source": [
    "distance_mat1 = create_distance_matrix(input1)\n",
    "num_ants = 100\n",
    "num_iterations = 1000\n",
    "evaportaion_rate = 0.1\n",
    "pheromone_num = 1.0\n",
    "best_path, best_dist = ant_colony_optimization(distance_mat1,num_ants, num_iterations, evaportaion_rate, pheromone_num)\n",
    "\n",
    "#we will use the results from the ant_colony as our initial tour in LKH"
   ]
  },
  {
   "cell_type": "code",
   "execution_count": null,
   "metadata": {},
   "outputs": [],
   "source": [
    "best_length, best_tour = lin_kernighan(distance_mat1, best_path)"
   ]
  }
 ],
 "metadata": {
  "kernelspec": {
   "display_name": "Python 3",
   "language": "python",
   "name": "python3"
  },
  "language_info": {
   "codemirror_mode": {
    "name": "ipython",
    "version": 3
   },
   "file_extension": ".py",
   "mimetype": "text/x-python",
   "name": "python",
   "nbconvert_exporter": "python",
   "pygments_lexer": "ipython3",
   "version": "3.9.13"
  },
  "orig_nbformat": 4
 },
 "nbformat": 4,
 "nbformat_minor": 2
}
